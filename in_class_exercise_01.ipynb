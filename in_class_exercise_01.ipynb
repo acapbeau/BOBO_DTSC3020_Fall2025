{
  "nbformat": 4,
  "nbformat_minor": 0,
  "metadata": {
    "colab": {
      "provenance": [],
      "authorship_tag": "ABX9TyMtmyWvUgRzZsKPnvlRYKJu",
      "include_colab_link": true
    },
    "kernelspec": {
      "name": "python3",
      "display_name": "Python 3"
    },
    "language_info": {
      "name": "python"
    }
  },
  "cells": [
    {
      "cell_type": "markdown",
      "metadata": {
        "id": "view-in-github",
        "colab_type": "text"
      },
      "source": [
        "<a href=\"https://colab.research.google.com/github/acapbeau/BOBO_DTSC3020_Fall2025/blob/main/in_class_exercise_01.ipynb\" target=\"_parent\"><img src=\"https://colab.research.google.com/assets/colab-badge.svg\" alt=\"Open In Colab\"/></a>"
      ]
    },
    {
      "cell_type": "code",
      "execution_count": 16,
      "metadata": {
        "colab": {
          "base_uri": "https://localhost:8080/"
        },
        "id": "xkNA100pP1wN",
        "outputId": "07397af5-4706-4d3b-b49d-26d186987bb0"
      },
      "outputs": [
        {
          "output_type": "stream",
          "name": "stdout",
          "text": [
            "welcome to python\n",
            " Hello\n",
            " WORLD\n",
            " Hi, Wagwan, Sak Pase\n",
            "Bobo\n",
            " welcome to Python, Bobo\n"
          ]
        }
      ],
      "source": [
        "print (\"welcome to python\")\n",
        "print ( \" Hello\")\n",
        "print ( \" WORLD\")\n",
        "print ( \" Hi, Wagwan, Sak Pase\")\n",
        "name = \"Bobo\"\n",
        "print (name)\n",
        "print ( \" welcome to Python, \" + name)"
      ]
    },
    {
      "cell_type": "code",
      "source": [],
      "metadata": {
        "id": "xHhPqC9tTSFU"
      },
      "execution_count": null,
      "outputs": []
    }
  ]
}