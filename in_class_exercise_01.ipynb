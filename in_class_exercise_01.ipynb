{
  "nbformat": 4,
  "nbformat_minor": 0,
  "metadata": {
    "colab": {
      "provenance": [],
      "authorship_tag": "ABX9TyPgAv0YMIeR8/8fG73CBj7p",
      "include_colab_link": true
    },
    "kernelspec": {
      "name": "python3",
      "display_name": "Python 3"
    },
    "language_info": {
      "name": "python"
    }
  },
  "cells": [
    {
      "cell_type": "markdown",
      "metadata": {
        "id": "view-in-github",
        "colab_type": "text"
      },
      "source": [
        "<a href=\"https://colab.research.google.com/github/acapbeau/BOBO_DTSC3020_Fall2025/blob/main/in_class_exercise_01.ipynb\" target=\"_parent\"><img src=\"https://colab.research.google.com/assets/colab-badge.svg\" alt=\"Open In Colab\"/></a>"
      ]
    },
    {
      "cell_type": "code",
      "execution_count": 19,
      "metadata": {
        "colab": {
          "base_uri": "https://localhost:8080/"
        },
        "id": "xkNA100pP1wN",
        "outputId": "c9942538-4661-4fb1-fa17-d09270d60b1a"
      },
      "outputs": [
        {
          "output_type": "stream",
          "name": "stdout",
          "text": [
            "welcome to python\n",
            " Hello\n",
            " WORLD\n",
            " Hi, Wagwan, Sak Pase\n"
          ]
        }
      ],
      "source": [
        "print (\"welcome to python\")\n",
        "print ( \" Hello\")\n",
        "print ( \" WORLD\")\n",
        "print ( \" Hi, Wagwan, Sak Pase\")"
      ]
    },
    {
      "cell_type": "code",
      "source": [
        "name = \"Bobo\"\n",
        "print (name)\n",
        "print ( \" welcome to Python, \" + name)"
      ],
      "metadata": {
        "colab": {
          "base_uri": "https://localhost:8080/"
        },
        "id": "xHhPqC9tTSFU",
        "outputId": "711d414d-67c9-444c-9221-c761dda36673"
      },
      "execution_count": 20,
      "outputs": [
        {
          "output_type": "stream",
          "name": "stdout",
          "text": [
            "Bobo\n",
            " welcome to Python, Bobo\n"
          ]
        }
      ]
    }
  ]
}